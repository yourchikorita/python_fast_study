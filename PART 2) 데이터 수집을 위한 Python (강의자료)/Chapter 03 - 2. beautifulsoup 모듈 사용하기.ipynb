{
 "cells": [
  {
   "cell_type": "markdown",
   "metadata": {},
   "source": [
    "### 학습목표\n",
    "1. beautifulsoup 모듈 사용하기\n",
    "2. id, class 속성으로 tag 찾기\n",
    "3. CSS를 이용하여 tag 찾기\n",
    "4. 속성 값으로 tag 찾기\n",
    "5. 정규표현식으로 tag 찾기\n",
    "6. 개발자도구를 이용하여 동적으로 로딩되는 데이터 추출하기"
   ]
  },
  {
   "cell_type": "code",
   "execution_count": 3,
   "metadata": {},
   "outputs": [],
   "source": [
    "import requests\n",
    "from bs4 import BeautifulSoup"
   ]
  },
  {
   "cell_type": "markdown",
   "metadata": {},
   "source": [
    "#### 다음 뉴스 데이터 추출\n",
    " - 뉴스기사에서 제목, 작성자, 작성일\n",
    " , 댓글 개수 추출\n",
    " - [뉴스링크](https://news.v.daum.net/v/20190728165812603)\n",
    " - tag를 추출할때는 가장 그 tag를 쉽게 특정할 수 있는 속성을 사용\n",
    "  - id의 경우 원칙적으로 한 html 문서 내에서 유일\n",
    "  "
   ]
  },
  {
   "cell_type": "code",
   "execution_count": 8,
   "metadata": {},
   "outputs": [
    {
     "data": {
      "text/plain": [
       "'[이광식의 천문학+] 과연 풀릴까? 우주 최대 미스터리 - 암흑물질과 암흑에너지'"
      ]
     },
     "execution_count": 8,
     "metadata": {},
     "output_type": "execute_result"
    }
   ],
   "source": [
    "resp = requests.get(url='https://news.v.daum.net/v/20190823102602232')\n",
    "html =resp.text\n",
    "soup = BeautifulSoup(html)\n",
    "soup.find('h3',class_='tit_view').get_text()\n"
   ]
  },
  {
   "cell_type": "markdown",
   "metadata": {},
   "source": [
    "* id, class 속성으로 tag 찾기\n",
    " - 타이틀\n",
    " - 작성자, 작성일"
   ]
  },
  {
   "cell_type": "code",
   "execution_count": 25,
   "metadata": {},
   "outputs": [
    {
     "data": {
      "text/plain": [
       "<span class=\"txt_info\">수정 2019.08.23. 10:26</span>"
      ]
     },
     "execution_count": 25,
     "metadata": {},
     "output_type": "execute_result"
    }
   ],
   "source": [
    "resp = requests.get(url='https://news.v.daum.net/v/20190823102602232')\n",
    "html =resp.text\n",
    "soup = BeautifulSoup(html)\n",
    "# soup.find_all('span',class_='txt_info')[1]\n",
    "\n",
    "info_view =soup.find('span',class_='info_view')\n",
    "info_view.find_all('span',class_='txt_info')[1]"
   ]
  },
  {
   "cell_type": "code",
   "execution_count": 50,
   "metadata": {
    "scrolled": true
   },
   "outputs": [
    {
     "data": {
      "text/plain": [
       "[<p dmcf-pid=\"NL1KcJWJ8o\" dmcf-ptype=\"general\">[서울신문 나우뉴스]</p>,\n",
       " <p class=\"link_figure\"><img alt=\"천문학자들은 우주의 팽창이 중력과 암흑 에너지와의 줄다리기 때문이라고 생각한다. 현재 상황은 척력으로 작용하는 암흑 에너지가 압도적으로 세어 우주는 가속팽창하고 있는 중이다. 이 그림에서 보라색 격자는 암흑 에너지, 초록색 격자는 중력을 나타낸다.(출처=NASA/JPL-Caltech)\" class=\"thumb_g_article\" dmcf-mid=\"Nc6J5xnThm\" dmcf-mtype=\"image\" height=\"488\" src=\"https://t1.daumcdn.net/news/201908/23/seoul/20190823102603744gwnt.jpg\" width=\"650\"/></p>,\n",
       " <p dmcf-pid=\"NXSNx11hKg\" dmcf-ptype=\"general\">1900년, 영국의 물리학자 켈빈 경은 물리학의 미래에 대해 이렇게 선언했다.</p>,\n",
       " <p dmcf-pid=\"N4Ghfm3Qqc\" dmcf-ptype=\"general\">“앞으로 물리학에서 더 발견될 새로운 것은 없으며, 남아 있는 것이라고는 더 정확한 측정일 뿐이다.”</p>,\n",
       " <p dmcf-pid=\"N5ny7SgN3w\" dmcf-ptype=\"general\">그러나 이 예측은 몇 년도 가지 않아 보기 좋게 깨졌다. 1905년, 스위스 특허청 직원인 26살의 새파란 젊은이 알버트 아인슈타인이 광속도 불변의 법칙을 내세운 특수 상대성 이론을 발표해, 시간과 공간에 대한 기존의 개념을 혁명적으로 바꿔버린 것이다. 그뿐 아니었다. 1916년에는 물체의 질량이 시공간을 휘게 만든다는 일반 상대성 이론이 역시 아인슈타인에 의해 발표되었으며, 곧이어 양자역학이 나타나 물리학 지형을 대대적으로 개편하기에 이른 것이다.</p>,\n",
       " <p dmcf-pid=\"Ng0BEsyN7X\" dmcf-ptype=\"general\">과연 물리학의 끝은 어디일까? 이것은 우주의 신비가 남김없이 다 풀릴 수 있을 것인가라는 질문과 등가이다. 오늘날 어떤 물리학자도 인류의 지식이 완성에 가깝다고 주장하지 않는다. 우주란 하나의 신비가 풀리면 열 개의 다른 신비가 튀어나오는 프랙탈 같은 속성을 가지고 있기 때문이다.</p>,\n",
       " <p dmcf-pid=\"NiXLbqYqPC\" dmcf-ptype=\"general\">현존 우주의 신비 중 최대의 것을 들라면, 단연 암흑물질과 암흑 에너지일 것이다. 어쩌면 이 미스터리들은 영원히 풀리지 않을지도 모르지만, 수많은 과학자들이 맹렬하게 그 답을 추구하고 있는 중이다. 비록 그 해답은 모르더라도, 우리가 무엇을 모르고 있는지 알아보는 것도 충분히 가치있는 일이기 때문이다.</p>,\n",
       " <p dmcf-pid=\"NBred8xC9H\" dmcf-ptype=\"general\"><strong>​암흑 에너지란 무엇인가?</strong></p>,\n",
       " <p dmcf-pid=\"NfMZWdaNdz\" dmcf-ptype=\"general\">천체 물리학자들이 아무리 숫자를 이리저리 꿰어맞추더라도 그 계산서는 우주를 제대로 설명하지 못하고 있다. 무엇보다 우주가 담고 있는 물질의 질량을 가진 중력은 우주의 ‘천’이랄 수 있는 시공간을 안쪽으로 잡아당기고 있다고 보아야 한다. 그렇다면 우주는 마땅히 쪼그라들어야 함에도 불구하고 현실은 그 반대이다. 더욱 빠른 속도로 팽창을 거듭하고 있는 것이다. 그렇다면 무엇이 우주를 이처럼 팽창시키고 있는 걸까? 도대체 어떤 힘이 우주를 잡아늘이고 있다는 말인가?</p>,\n",
       " <p dmcf-pid=\"N3oTRX1ajl\" dmcf-ptype=\"general\">물리학자들이 내놓은 답은 중력에 반하는 척력이 시공간을 밀어내어 우주를 팽창시키고 있으며, 그들은 그 정체 모를 힘에 ‘암흑 에너지’라는 이름을 붙여주었다.</p>,\n",
       " <p dmcf-pid=\"NseShlWuGz\" dmcf-ptype=\"general\">1998년, 1a형 초신성을 이용하여 우주의 팽창속도 변화를 연구하던 관측결과에 의하면 우주의 팽창속도는 느려지는 것이 아니라 빨라지고 있음이 밝혀졌다. 그들이 얻은 결과에 의하면 오늘날 우주는 70억 년 전 우주에 비해 15%나 빨라진 속도로 팽창하고 있다. 이 놀라운 사실을 알아낸 과학자들에게는 2011년 노벨 물리학상이 주어졌다.</p>,\n",
       " <p dmcf-pid=\"NqE8MzMnCj\" dmcf-ptype=\"general\">가장 널리 받아들여지는 암흑 에너지의 모델은 공간 자체가 갖고 있는 어떤 고유의 힘으로 파악된다. 따라서 우주가 팽창하면 그만큼 더 많은 암흑 에너지가 생산되는데, 놀랍게도 우주의 총 에너지-물질의 양 중 73%나 차지하고 있는 것으로 밝혀졌다. 이 암흑 에너지로 인해 우리는 우주공간이 말 그대로 텅 빈 공간만은 아님을 알게 되었다. 입자와 반입자가 끊임없이 생겨나고 스러지는 역동적인 공간으로, 이것이야말로 우주공간의 본원적 성질임을 어렴풋이 인식하게 된 것이다.</p>,\n",
       " <p class=\"link_figure\"><img alt=\"우주의 구성비\" class=\"thumb_g_article\" dmcf-mid=\"NrNOIwQqK4\" dmcf-mtype=\"image\" height=\"487\" src=\"https://t1.daumcdn.net/news/201908/23/seoul/20190823102604992cqlu.jpg\" width=\"650\"/></p>,\n",
       " <p dmcf-pid=\"NE8doxyYpp\" dmcf-ptype=\"general\"><strong>암흑물질이란 무엇인가?</strong></p>,\n",
       " <p dmcf-pid=\"NfcNsQs04d\" dmcf-ptype=\"general\">1933년 우주론 역사상 가장 기이한 내용을 담고 있는 주장이 발표되었다. 내용인즉슨, “정체불명의 물질이 우주의 대부분을 구성하고 있다!”는 것으로, 우주 안에는 우리 눈에 보이는 물질보다 몇 배나 더 많은 암흑물질이 존재한다는 주장이었다. 암흑물질의 존재를 인류에게 최초로 고한 사람은 스위스 출신 물리학자인 칼텍 교수 프리츠 츠비키(1898~1974)였다.</p>,\n",
       " <p dmcf-pid=\"NbvgVevrOz\" dmcf-ptype=\"general\">츠비키는 머리털자리 은하단에 있는 은하들의 운동을 관측하던 중, 그 은하들이 뉴턴의 중력법칙에 따르지 않고 예상보다 매우 빠른 속도로 움직이고 있다는 놀라운 사실을 발견했다. 그는 은하단 중심 둘레를 공전하는 은하들의 속도가 너무 빨라, 눈에 보이는 머리털 은하단 질량의 중력만으로는 이 은하들의 운동을 붙잡아둘 수 없다고 생각했다. 이런 속도라면 은하들은 대거 튕겨나가고 은하단은 해체돼야 했다.</p>,\n",
       " <p dmcf-pid=\"NUeJ9F3kaD\" dmcf-ptype=\"general\">여기서 츠비키는 하나의 결론에 도달했다. 개별 은하들의 빠른 운동속도에도 불구하고 머리털자리 은하단이 해체되지 않고 현상태를 유지한다는 것은 우리 눈에 보이지 않는 암흑물질이 이 은하단을 가득 채우고 있음이 틀림없다. 머리털자리 은하단이 현상태를 유지하려면 암흑물질의 양이 보이는 물질량보다 7배나 많아야 한다는 계산도 나왔다. 그러나 이 같은 주장은 워낙 파격적이라 학계에서 간단히 무시되었다. 그로부터 80여 년이 지난 현재, 전세는 대반전되었다. 암흑물질이 우리 우주의 운명을 결정할 거라는 데 반기를 드는 학자들은 거의 사라지고 말았다.</p>,\n",
       " <p dmcf-pid=\"N0K1H9jp9g\" dmcf-ptype=\"general\">문제는 암흑물질이 과연 무엇으로 이루어져 있는가 하는 점이다. 이것만 안다면 다음 노벨상은 예약해놓은 거나 마찬가지다. 그래서 많은 학자들의 그 정체 규명에 투신하고 있지만, 아직까지는 뚜렷한 단서를 못 잡고 있다. 암흑물질이 빛은 물론, 어떤 물질과도 거의 상호작용을 하지 않는 만큼 단서를 잡아내기가 쉽지 않기 때문이다.</p>,\n",
       " <p dmcf-pid=\"Nwab8CCPBT\" dmcf-ptype=\"general\">현재 우주배경복사와 암흑물질 연구에서 선구적 역할을 하는 것은 윌킨슨 초단파 비등방 탐사선(WMAP)이다. 이 위성은 2002년 부터 몇 차례에 걸쳐 매우 정밀한 우주배경복사 지도를 작성했다. 우주는 이 가시물질 4%와 암흑물질 22%, 그리고 암흑 에너지 74%라는 비율로 이루어져 있어, 우주의 대부분은 눈에 보이지 않는 미지의 물질로 채워져 있음이 윌킨스 탐사선에 의해 밝혀졌다.</p>,\n",
       " <p dmcf-pid=\"NtS4ayii2p\" dmcf-ptype=\"general\">암흑물질은 우주의 생성과정과도 밀접하게 연관되어 있다. 우리가 관측적으로 얻어낸 우주의 은하 분포는 암흑물질이 없이는 가능하지 않다는 것이 현대 우주론의 결론이다. 은하를 만드는 과정에서 암흑물질이 중력으로 거대구조를 미리 만들지 않았다면, 현재와 같은 은하의 분포를 보일 수 없다는 것이다. 앞으로 우주의 운명은 팽창-수축 여부를 결정할 암흑물질과 암흑 에너지에 의해 결정될 거라는 게 과학자들의 생각이다. 두 ‘암흑’이 현대천문학 최대의 화두이다.</p>,\n",
       " <p dmcf-pid=\"Np1h8Yuexm\" dmcf-ptype=\"general\">이광식 칼럼니스트 joand999@naver.com　</p>]"
      ]
     },
     "execution_count": 50,
     "metadata": {},
     "output_type": "execute_result"
    }
   ],
   "source": [
    "resp = requests.get(url='https://news.v.daum.net/v/20190823102602232')\n",
    "html =resp.text\n",
    "soup = BeautifulSoup(html)\n",
    "container = soup.find('div',id='harmonyContainer')\n",
    "container.find_all('p')\n",
    "contents=''\n",
    "for p in container.find_all('p'):\n",
    "    contents += p.get_text().strip()\n",
    "contents    "
   ]
  },
  {
   "cell_type": "code",
   "execution_count": null,
   "metadata": {},
   "outputs": [],
   "source": []
  },
  {
   "cell_type": "code",
   "execution_count": null,
   "metadata": {},
   "outputs": [],
   "source": []
  },
  {
   "cell_type": "markdown",
   "metadata": {},
   "source": [
    "* CSS를 이용하여 tag 찾기\n",
    " - select, select_one함수 사용 \n",
    " - css selector 사용법\n",
    "   - 태그명 찾기 tag \n",
    "   - 자손 태그 찾기 - 자손 관계 (tag tag)\n",
    "   - 자식 태그 찾기 - 다이렉트 자식 관계 (tag > tag)\n",
    "   - 아이디 찾기 #id\n",
    "   - 클래스 찾기 .class\n",
    "   - 속성값 찾기 [name='test']\n",
    "     - 속성값 prefix 찾기 [name ^='test']\n",
    "     - 속성값 suffix 찾기 [name $='test']\n",
    "     - 속성값 substring 찾기 [name *='test]\n",
    "   - n번째 자식 tag 찾기 :nth-child(n)"
   ]
  },
  {
   "cell_type": "code",
   "execution_count": 4,
   "metadata": {},
   "outputs": [
    {
     "data": {
      "text/plain": [
       "[<h3 class=\"tit_view\" data-translation=\"\">[이광식의 천문학+] 과연 풀릴까? 우주 최대 미스터리 - 암흑물질과 암흑에너지</h3>]"
      ]
     },
     "execution_count": 4,
     "metadata": {},
     "output_type": "execute_result"
    }
   ],
   "source": [
    "resp = requests.get(url='https://news.v.daum.net/v/20190823102602232')\n",
    "soup  =BeautifulSoup(resp.text)\n",
    "# soup.select('h3')\n",
    "soup.select('h3.tit_view')"
   ]
  },
  {
   "cell_type": "code",
   "execution_count": 12,
   "metadata": {},
   "outputs": [
    {
     "data": {
      "text/plain": [
       "[<h3 class=\"tit_view\" data-translation=\"\">[이광식의 천문학+] 과연 풀릴까? 우주 최대 미스터리 - 암흑물질과 암흑에너지</h3>,\n",
       " <h3 class=\"txt_newsview\">포토&amp;TV</h3>,\n",
       " <h3 class=\"txt_newsview\">실시간 이슈</h3>,\n",
       " <h3 class=\"txt_newsview\">이 시각 추천뉴스</h3>,\n",
       " <h3 class=\"txt_newsview\">실시간 주요이슈</h3>]"
      ]
     },
     "execution_count": 12,
     "metadata": {},
     "output_type": "execute_result"
    }
   ],
   "source": [
    "soup.select('h3[class^=\"tx\"] ') #t로 시작하는 클래스를 가져와라\n",
    "soup.select('h3[class$=\"view\"] ') #view로 끝는 클래스를 가져와라"
   ]
  },
  {
   "cell_type": "code",
   "execution_count": 19,
   "metadata": {},
   "outputs": [
    {
     "data": {
      "text/plain": [
       "[<span class=\"txt_info\">입력 2019.08.23. 10:26</span>]"
      ]
     },
     "execution_count": 19,
     "metadata": {},
     "output_type": "execute_result"
    }
   ],
   "source": [
    "soup.select('span.txt_info:nth-child(1)') #span 이면서 클래스는 txt_info"
   ]
  },
  {
   "cell_type": "markdown",
   "metadata": {},
   "source": [
    "* 정규표현식으로 tag 찾기"
   ]
  },
  {
   "cell_type": "code",
   "execution_count": 1,
   "metadata": {},
   "outputs": [],
   "source": [
    "import re"
   ]
  },
  {
   "cell_type": "code",
   "execution_count": 5,
   "metadata": {},
   "outputs": [
    {
     "data": {
      "text/plain": [
       "[<h1> <a class=\"link_daum\" href=\"https://www.daum.net/\"> <img alt=\"Daum\" class=\"thumb_g\" height=\"19\" src=\"//t1.daumcdn.net/media/news/news2016/retina/logo_daum.jpg\" width=\"45\"/> </a> <a href=\"https://media.daum.net/\" id=\"kakaoServiceLogo\"><span class=\"ir_wa\">뉴스</span></a> </h1>,\n",
       " <h2 class=\"screen_out\">검색</h2>,\n",
       " <h2 class=\"screen_out\">뉴스 메인메뉴</h2>,\n",
       " <h2 class=\"screen_out\" id=\"kakaoBody\">IT</h2>,\n",
       " <h3 class=\"tit_view\" data-translation=\"\">[이광식의 천문학+] 과연 풀릴까? 우주 최대 미스터리 - 암흑물질과 암흑에너지</h3>,\n",
       " <h3 class=\"txt_newsview\">포토&amp;TV</h3>,\n",
       " <h3 class=\"txt_newsview\">실시간 이슈</h3>,\n",
       " <h3 class=\"txt_newsview\">이 시각 추천뉴스</h3>,\n",
       " <h3 class=\"txt_newsview\">실시간 주요이슈</h3>,\n",
       " <h2 class=\"tit_direct\">바로가기</h2>,\n",
       " <h2 class=\"screen_out\">서비스 이용정보</h2>]"
      ]
     },
     "execution_count": 5,
     "metadata": {},
     "output_type": "execute_result"
    }
   ],
   "source": [
    "soup.find_all(re.compile('h\\d'))"
   ]
  },
  {
   "cell_type": "code",
   "execution_count": 8,
   "metadata": {},
   "outputs": [
    {
     "data": {
      "text/plain": [
       "[<img alt=\"Daum\" class=\"thumb_g\" height=\"19\" src=\"//t1.daumcdn.net/media/news/news2016/retina/logo_daum.jpg\" width=\"45\"/>,\n",
       " <img alt=\"천문학자들은 우주의 팽창이 중력과 암흑 에너지와의 줄다리기 때문이라고 생각한다. 현재 상황은 척력으로 작용하는 암흑 에너지가 압도적으로 세어 우주는 가속팽창하고 있는 중이다. 이 그림에서 보라색 격자는 암흑 에너지, 초록색 격자는 중력을 나타낸다.(출처=NASA/JPL-Caltech)\" class=\"thumb_g_article\" dmcf-mid=\"Nc6J5xnThm\" dmcf-mtype=\"image\" height=\"488\" src=\"https://t1.daumcdn.net/news/201908/23/seoul/20190823102603744gwnt.jpg\" width=\"650\"/>,\n",
       " <img alt=\"우주의 구성비\" class=\"thumb_g_article\" dmcf-mid=\"NrNOIwQqK4\" dmcf-mtype=\"image\" height=\"487\" src=\"https://t1.daumcdn.net/news/201908/23/seoul/20190823102604992cqlu.jpg\" width=\"650\"/>,\n",
       " <img alt=\"[카메라 뉴스] 추석 햅쌀용 벼 수확의 기쁨\" class=\"thumb_g\" src=\"https://img1.daumcdn.net/thumb/S288x280.q70/?fname=https://t1.daumcdn.net/news/201908/26/yonhap/20190826153824428vubv.jpg\"/>,\n",
       " <img alt=\"'일본여성 폭행' 피의자 입건 &quot;머리채 잡았지만 폭행 안 해&quot;\" class=\"thumb_g\" src=\"https://img1.daumcdn.net/thumb/S288x280.q70/?fname=https://t1.daumcdn.net/news/201908/26/JTBC/20190826155221836dxme.jpg\"/>,\n",
       " <img alt=\"\" class=\"thumb_g\" height=\"54\" src=\"https://img1.daumcdn.net/thumb/S168x108.q70/?fname=https://t1.daumcdn.net/news/201908/26/newsis/20190826154937039sddg.jpg\" width=\"84\"/>,\n",
       " <img alt=\"\" class=\"thumb_g\" height=\"54\" src=\"https://img1.daumcdn.net/thumb/S168x108.q70/?fname=https://t1.daumcdn.net/news/201908/26/seoul/20190826050742536mwaz.jpg\" width=\"84\"/>,\n",
       " <img alt=\"\" class=\"thumb_g\" height=\"54\" src=\"https://img1.daumcdn.net/thumb/S168x108.q70/?fname=https://t1.daumcdn.net/news/201908/26/YTN/20190826150711783dyjg.jpg\" width=\"84\"/>]"
      ]
     },
     "execution_count": 8,
     "metadata": {},
     "output_type": "execute_result"
    }
   ],
   "source": [
    "soup.find_all('img',attrs={\"src\":re.compile('.+\\.jpg')}) #jpg로끝나는이미지검색"
   ]
  },
  {
   "cell_type": "code",
   "execution_count": 15,
   "metadata": {},
   "outputs": [
    {
     "data": {
      "text/plain": [
       "[<h3 class=\"tit_view\" data-translation=\"\">[이광식의 천문학+] 과연 풀릴까? 우주 최대 미스터리 - 암흑물질과 암흑에너지</h3>,\n",
       " <h3 class=\"txt_newsview\">포토&amp;TV</h3>,\n",
       " <h3 class=\"txt_newsview\">실시간 이슈</h3>,\n",
       " <h3 class=\"txt_newsview\">이 시각 추천뉴스</h3>,\n",
       " <h3 class=\"txt_newsview\">실시간 주요이슈</h3>]"
      ]
     },
     "execution_count": 15,
     "metadata": {},
     "output_type": "execute_result"
    }
   ],
   "source": [
    "# soup.find_all('h3',class_='tit_view')\n",
    "soup.find_all('h3',class_=re.compile('.+view$')) #view로 끝나는클래스"
   ]
  },
  {
   "cell_type": "markdown",
   "metadata": {},
   "source": [
    "* 댓글 개수 추출\n",
    " - 댓글의 경우, 최초 로딩시에 전달되지 않음\n",
    " - 이 경우는 추가적으로 AJAX로 비동기적 호출을 하여 따로 data 전송을 함\n",
    "   - 개발자 도구의 network 탭에서 확인(XHR: XmlHTTPRequest)\n",
    "   - 비동기적 호출: 사이트의 전체가 아닌 일부분만 업데이트 가능하도록 함"
   ]
  },
  {
   "cell_type": "code",
   "execution_count": null,
   "metadata": {},
   "outputs": [],
   "source": []
  },
  {
   "cell_type": "code",
   "execution_count": null,
   "metadata": {},
   "outputs": [],
   "source": []
  },
  {
   "cell_type": "code",
   "execution_count": null,
   "metadata": {},
   "outputs": [],
   "source": []
  }
 ],
 "metadata": {
  "kernelspec": {
   "display_name": "Python 3",
   "language": "python",
   "name": "python3"
  },
  "language_info": {
   "codemirror_mode": {
    "name": "ipython",
    "version": 3
   },
   "file_extension": ".py",
   "mimetype": "text/x-python",
   "name": "python",
   "nbconvert_exporter": "python",
   "pygments_lexer": "ipython3",
   "version": "3.7.3"
  }
 },
 "nbformat": 4,
 "nbformat_minor": 2
}
