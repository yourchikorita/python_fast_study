{
 "cells": [
  {
   "cell_type": "markdown",
   "metadata": {},
   "source": [
    "### 학습목표\n",
    " 1. OPEN API 사용하여 데이터 획득하기"
   ]
  },
  {
   "cell_type": "markdown",
   "metadata": {},
   "source": [
    "#### 공공데이터 포털 OPEN API 사용하기\n",
    "1. 공공데이터 포털 회원가입/로그인(https://www.data.go.kr/)\n",
    "2. API 사용 요청 / 키 발급\n",
    "3. API 문서(specification) 확인\n",
    "4. API 테스트 및 개발"
   ]
  },
  {
   "cell_type": "code",
   "execution_count": 9,
   "metadata": {},
   "outputs": [],
   "source": [
    "import requests"
   ]
  },
  {
   "cell_type": "markdown",
   "metadata": {},
   "source": [
    "#### Endpoint 확인하기\n",
    " - API가 서비스되는 서버의 IP 혹은 domain 주소"
   ]
  },
  {
   "cell_type": "code",
   "execution_count": 24,
   "metadata": {
    "scrolled": true
   },
   "outputs": [
    {
     "name": "stdout",
     "output_type": "stream",
     "text": [
      "{'code': 9, 'name': 'Nowon-gu', 'rnum': 9}\n"
     ]
    }
   ],
   "source": [
    "endpoint ='http://api.visitkorea.or.kr/openapi/service/rest/EngService/areaCode?serviceKey={}&numOfRows=10&pageSize=10&pageNo=1&MobileOS=ETC&MobileApp=AppTest&areaCode=1&_type=json'.format(serviceKey)\n",
    "# print(endpoint)\n",
    "\n",
    "resp=requests.get(endpoint)\n",
    "print(resp.status_code)\n",
    "# print(resp.text)\n",
    "\n",
    "data = resp.json()\n",
    "print(data['response']['body']['items']['item'][8])"
   ]
  },
  {
   "cell_type": "code",
   "execution_count": 46,
   "metadata": {},
   "outputs": [
    {
     "name": "stdout",
     "output_type": "stream",
     "text": [
      "http://api.visitkorea.or.kr/openapi/service/rest/EngService/searchFestival?serviceKey=SZuXUHfZNLEJqiAh4mF9Cjh8iBjzM1s1kBakiqF9P9PXglB6upcm17zFu00%2FjMNA6nodWV76bS4J6fZl0tVZYg%3D%3D&numOfRows=10&pageSize=10&pageNo=1&MobileOS=ETC&MobileApp=AppTest&listYN=Y&arrange=A&eventStartDate=20170901&eventEndDate=20170931&_type=json\n",
      "Chuncheon Ani Town Festival (춘천애니타운페스티벌)\n"
     ]
    }
   ],
   "source": [
    "#축제 이름 가져오기~\n",
    "endpoint2 ='http://api.visitkorea.or.kr/openapi/service/rest/EngService/searchFestival?serviceKey={}&numOfRows=10&pageSize=10&pageNo=1&MobileOS=ETC&MobileApp=AppTest&listYN=Y&arrange=A&eventStartDate=20170901&eventEndDate=20170931&_type=json'.format(serviceKey)\n",
    "print(endpoint2)\n",
    "\n",
    "resp2 = requests.get(endpoint2)\n",
    "# print(resp2.text)\n",
    "data2 = resp2.json()\n",
    "print(data2['response']['body']['items']['item'][0]['title'])"
   ]
  },
  {
   "cell_type": "markdown",
   "metadata": {},
   "source": [
    "#### key 값 확인하기\n",
    " - 서비스 호출 트래킹할 목적이나 악의적인 사용을 금지할 목적으로 주로 사용\n",
    " - 새로 발급받은 키는 1시간 이후 사용 가능"
   ]
  },
  {
   "cell_type": "code",
   "execution_count": 4,
   "metadata": {},
   "outputs": [],
   "source": [
    "serviceKey='SZuXUHfZNLEJqiAh4mF9Cjh8iBjzM1s1kBakiqF9P9PXglB6upcm17zFu00%2FjMNA6nodWV76bS4J6fZl0tVZYg%3D%3D'"
   ]
  },
  {
   "cell_type": "markdown",
   "metadata": {},
   "source": [
    "#### Parameter 확인하기\n",
    " - API 호출에 필요한 parameter 값 확인 및 구성"
   ]
  },
  {
   "cell_type": "markdown",
   "metadata": {},
   "source": [
    "#### 요청 및 Response 확인\n",
    " - requests 모듈을 활용하여 API 호출\n",
    " - response 확인하여 원하는 정보 추출\n",
    " - json 데이터의 경우, python dictionary로 변경하여 사용가능"
   ]
  }
 ],
 "metadata": {
  "kernelspec": {
   "display_name": "Python 3",
   "language": "python",
   "name": "python3"
  },
  "language_info": {
   "codemirror_mode": {
    "name": "ipython",
    "version": 3
   },
   "file_extension": ".py",
   "mimetype": "text/x-python",
   "name": "python",
   "nbconvert_exporter": "python",
   "pygments_lexer": "ipython3",
   "version": "3.7.3"
  }
 },
 "nbformat": 4,
 "nbformat_minor": 2
}
