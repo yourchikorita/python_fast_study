{
 "cells": [
  {
   "cell_type": "markdown",
   "metadata": {},
   "source": [
    "### 학습목표\n",
    " 1. 클래스와 오브젝트에 대한 이해"
   ]
  },
  {
   "cell_type": "markdown",
   "metadata": {},
   "source": [
    "#### **class란?**\n",
    " + 실세계의 것을 모델링하여 속성(attribute)와 동작(method)를 갖는 데이터 타입\n",
    " + python에서의 string, int, list, dict.. 모두가 다 클래스로 존재\n",
    " + 예를들어 학생이라는 클래스를 만든다면, 학생을 나타내는 속성과 학생이 행하는 행동을 함께 정의 할 수 있음\n",
    " + 따라서, 다루고자 하는 데이터(변수) 와 데이터를 다루는 연산(함수)를 하나로 캡슐화(encapsulation)하여 클래스로 표현\n",
    " + 모델링에서 중요시 하는 속성에 따라 클래스의 속성과 행동이 각각 달라짐"
   ]
  },
  {
   "cell_type": "code",
   "execution_count": 1,
   "metadata": {},
   "outputs": [],
   "source": [
    "class Person:\n",
    "    pass"
   ]
  },
  {
   "cell_type": "code",
   "execution_count": 4,
   "metadata": {},
   "outputs": [
    {
     "name": "stdout",
     "output_type": "stream",
     "text": [
      "<class '__main__.Person'>\n"
     ]
    }
   ],
   "source": [
    "bob = Person()\n",
    "print(type(bob))"
   ]
  },
  {
   "cell_type": "markdown",
   "metadata": {},
   "source": [
    "#### **object 란?**\n",
    " - 클래스로 생성되어 구체화된 객체(인스턴스)\n",
    " - 파이썬의 모든 것(int, str, list..etc)은 객체(인스턴스)\n",
    " - 실제로 class가 인스턴스화 되어 메모리에 상주하는 상태를 의미\n",
    " - class가 빵틀이라면, object는 실제로 빵틀로 찍어낸 빵이라고 비유 가능\n"
   ]
  },
  {
   "cell_type": "code",
   "execution_count": null,
   "metadata": {},
   "outputs": [],
   "source": []
  },
  {
   "cell_type": "markdown",
   "metadata": {},
   "source": [
    "#### **class 선언하기**\n",
    "  - 객체를 생성하기 위해선 객체의 모체가 되는 class를 미리 선언해야 함 "
   ]
  },
  {
   "cell_type": "code",
   "execution_count": null,
   "metadata": {},
   "outputs": [],
   "source": []
  },
  {
   "cell_type": "markdown",
   "metadata": {},
   "source": [
    "#### __init__(self)\n",
    " + 생성자, 클래스 인스턴스가 생성될 때 호출됨\n",
    " + self인자는 항상 첫번째에 오며 자기 자신을 가리킴\n",
    " + 이름이 꼭 self일 필요는 없지만, 관례적으로 self로 사용\n",
    " \n",
    " + 생성자에서는 해당 클래스가 다루는 데이터를 정의\n",
    "   - 이 데이터를 멤버 변수(member variable) 또는 속성(attribute)라고 함"
   ]
  },
  {
   "cell_type": "code",
   "execution_count": 9,
   "metadata": {
    "scrolled": true
   },
   "outputs": [
    {
     "name": "stdout",
     "output_type": "stream",
     "text": [
      "<__main__.Person object at 0x0000025AE15256A0> is generated\n",
      "<__main__.Person object at 0x0000025AE1525630> is generated\n",
      "p1's name first name\n"
     ]
    }
   ],
   "source": [
    "class Person:\n",
    "    def __init__(itself):\n",
    "        print(itself,'is generated')\n",
    "        itself.name = 'first name'\n",
    "        itself.age = 'first age'\n",
    "p1 = Person() #()를 썼을때 , 이 행 에서 호출이된다 생성자가\n",
    "p2 = Person() #객체생성\n",
    "\n",
    "p1.name\n",
    "p1.name = \"p1's name\"\n",
    "print(p1.name,p2.name)"
   ]
  },
  {
   "cell_type": "code",
   "execution_count": 29,
   "metadata": {},
   "outputs": [
    {
     "name": "stdout",
     "output_type": "stream",
     "text": [
      "!! <__main__.Person object at 0x0000025AE150F9B0> is generated\n",
      "!! <__main__.Person object at 0x0000025AE150F978> is generated\n",
      "bob 22\n"
     ]
    }
   ],
   "source": [
    "class Person:\n",
    "    def __init__(self,n,a=10):\n",
    "        print('!!',self, 'is generated')\n",
    "        self.name = n\n",
    "        self.age = a\n",
    "p1 = Person('bob',22) #()를 썼을때 , 이 행 에서 호출이된다 생성자가\n",
    "p2 = Person('kath',100) #객체생성\n",
    "print(p1.name,p1.age)"
   ]
  },
  {
   "cell_type": "markdown",
   "metadata": {},
   "source": [
    "#### **mehtod 정의**\n",
    " + 멤버함수라고도 하며, 해당 클래스의 object에서만 호출가능\n",
    " + 메쏘드는 객체 레벨에서 호출되며, 해당 객체의 속성에 대한 연산을 행함\n",
    " + {obj}.{method}() 형태로 호출됨"
   ]
  },
  {
   "cell_type": "code",
   "execution_count": 32,
   "metadata": {
    "scrolled": true
   },
   "outputs": [
    {
     "data": {
      "text/plain": [
       "['string']"
      ]
     },
     "execution_count": 32,
     "metadata": {},
     "output_type": "execute_result"
    }
   ],
   "source": [
    "a=list()\n",
    "a.append(2)\n",
    "a\n",
    "\n",
    "str='string'\n",
    "str.split()"
   ]
  },
  {
   "cell_type": "code",
   "execution_count": 56,
   "metadata": {},
   "outputs": [
    {
     "name": "stdout",
     "output_type": "stream",
     "text": [
      "current value is 0\n",
      "increment ->  1\n",
      "increment ->  2\n",
      "current value is 0\n"
     ]
    }
   ],
   "source": [
    "class Counter:\n",
    "    def __init__(self):\n",
    "#         print(self,'is generated!!!!!!!!!!!!!!!!!!!')\n",
    "        self.num =0\n",
    "        \n",
    "    def increment(self):\n",
    "        self.num += 1\n",
    "        print('increment -> ',self.num)\n",
    "    def reset(self):\n",
    "        self.num=0\n",
    "    def current_value(self):\n",
    "        print('current value is',self.num)\n",
    "\n",
    "my = Counter()\n",
    "my.current_value()\n",
    "my.increment()\n",
    "my.increment()\n",
    "my.reset()\n",
    "my.current_value()\n",
    "\n",
    "        \n",
    "        "
   ]
  },
  {
   "cell_type": "markdown",
   "metadata": {},
   "source": [
    " #### **Class Inheritance (상속)**\n",
    "  - 기존에 정의해둔 클래스의 기능을 그대로 물려받을 수 있다.\n",
    "  - 기존 클래스에 기능 일부를 추가하거나, 변경하여 새로운 클래스를 정의한다.\n",
    "  - 코드를 재사용할 수 있게된다.\n",
    "  - 상속 받고자 하는 대상인 기존 클래스는 (Parent, Super, Base class 라고 부른다.)\n",
    "  - 상속 받는 새로운 클래스는(Child, Sub, Derived class 라고 부른다.)\n",
    "  - 의미적으로 is-a관계를 갖는다"
   ]
  },
  {
   "cell_type": "code",
   "execution_count": 9,
   "metadata": {},
   "outputs": [
    {
     "name": "stdout",
     "output_type": "stream",
     "text": [
      "boboy은 25분동안 일합니다.ㅠㅠ\n",
      "boboy은 100분동안 잠자요~ good night\n"
     ]
    }
   ],
   "source": [
    "class Person:\n",
    "    def __init__(self,n,a):\n",
    "        self.name = n\n",
    "        self.age = a\n",
    "        \n",
    "    def work(self,m):\n",
    "        print('{}은 {}분동안 일합니다.ㅠㅠ'.format(self.name,m))\n",
    "    def sleep(self,m):\n",
    "        print('{}은 {}분동안 잠자요~ good night'.format(self.name,m))\n",
    "        \n",
    "class Student(Person):\n",
    "    def __init__(self,n,a):\n",
    "        self.name = n\n",
    "        self.age = a\n",
    "\n",
    "class Employee(Person):\n",
    "     def __init__(self,n,a):\n",
    "        self.name = n\n",
    "        self.age = a\n",
    "    pass\n",
    "\n",
    "bob = Student('boboy',33)\n",
    "bob.work(25)\n",
    "bob.sleep(100)\n",
    "        "
   ]
  },
  {
   "cell_type": "markdown",
   "metadata": {},
   "source": [
    "#### **method override**\n",
    " - 부모 클래스의 method를 **재정의(override)**\n",
    " - 하위 클래스(자식 클래스) 의 인스턴스로 호출시, 재정의된 메소드가 호출됨"
   ]
  },
  {
   "cell_type": "code",
   "execution_count": 18,
   "metadata": {},
   "outputs": [
    {
     "name": "stdout",
     "output_type": "stream",
     "text": [
      "bobq은 25분동안 일합니다.ㅠㅠ\n",
      "bobq은 100분동안 야근을해요오요~ good night\n"
     ]
    }
   ],
   "source": [
    "class Person:\n",
    "    def __init__(self,n,a):\n",
    "        self.name = n\n",
    "        self.age = a\n",
    "    def work(self,m):\n",
    "        print('{}은 {}분동안 일합니다.ㅠㅠ'.format(self.name,m))\n",
    "    def sleep(self,m):\n",
    "        print('{}은 {}분동안 잠자요~ good night'.format(self.name,m))\n",
    "        \n",
    "class Student(Person):\n",
    "    def __init__(self,n,a):\n",
    "        self.name = n\n",
    "        self.age = a        \n",
    "    def work(self,m):\n",
    "        print('{}은 {}분동안 공.부.를.합니다.ㅠㅠ'.format(self.name,m))    #재정의\n",
    "\n",
    "class Employee(Person):\n",
    "     def __init__(self,n,a):\n",
    "        self.name = n\n",
    "        self.age = a\n",
    "     def sleep(self,m):\n",
    "        print('{}은 {}분동안 야근을해요오요~ good night'.format(self.name,m))\n",
    "\n",
    "bobq = Employee('bobq',33)\n",
    "bobq.work(25)\n",
    "bobq.sleep(100)\n",
    "        "
   ]
  },
  {
   "cell_type": "markdown",
   "metadata": {},
   "source": [
    "#### super \n",
    " - 하위클래스(자식 클래스)에서 부모클래스의 method를 호출할 때 사용\n",
    " - 오버라이드했을때 더이상 부모의 함수를 쓸쑤없으니까 쓰고싶을때 사용"
   ]
  },
  {
   "cell_type": "code",
   "execution_count": 19,
   "metadata": {},
   "outputs": [
    {
     "name": "stdout",
     "output_type": "stream",
     "text": [
      "bobq은 25분동안 일합니다.ㅠㅠ\n",
      "bobq은 25분동안 공.부.를.합니다.ㅠㅠ\n",
      "bobq은 100분동안 잠자요~ good night\n"
     ]
    }
   ],
   "source": [
    "class Person:\n",
    "    def __init__(self,n,a):\n",
    "        self.name = n\n",
    "        self.age = a\n",
    "    def work(self,m):\n",
    "        print('{}은 {}분동안 일합니다.ㅠㅠ'.format(self.name,m))\n",
    "    def sleep(self,m):\n",
    "        print('{}은 {}분동안 잠자요~ good night'.format(self.name,m))\n",
    "        \n",
    "class Student(Person):\n",
    "    def __init__(self,n,a):\n",
    "        self.name = n\n",
    "        self.age = a        \n",
    "    def work(self,m):\n",
    "        super().work(m) #여기서 work함수를 재정의했지만 부모의 함수도 쓰고싶다!\n",
    "        print('{}은 {}분동안 공.부.를.합니다.ㅠㅠ'.format(self.name,m))    #재정의\n",
    "\n",
    "class Employee(Person):\n",
    "     def __init__(self,n,a):\n",
    "        self.name = n\n",
    "        self.age = a\n",
    "     def sleep(self,m):\n",
    "        print('{}은 {}분동안 야근을해요오요~ good night'.format(self.name,m))\n",
    "\n",
    "bobq = Student('bobq',33)\n",
    "bobq.work(25)\n",
    "bobq.sleep(100)\n",
    "        "
   ]
  },
  {
   "cell_type": "code",
   "execution_count": 20,
   "metadata": {},
   "outputs": [
    {
     "name": "stdout",
     "output_type": "stream",
     "text": [
      "(1,3)\n",
      "(3,7)\n"
     ]
    }
   ],
   "source": [
    "class Point:\n",
    "    def __init__(self,x,y):\n",
    "        self.x=x\n",
    "        self.y=y\n",
    "    def __str__(self):\n",
    "        return '({},{})'.format(self.x,self.y)\n",
    "    def __add__(self,pt):\n",
    "        new_x=self.x + pt.x\n",
    "        new_y=self.y+ pt.y\n",
    "        return Point(new_x,new_y)\n",
    "p1=Point(1,3)\n",
    "p2=Point(2,4)\n",
    "print(p1) #__str__\n",
    "p3 =p1+p2 #__add__\n",
    "print(p3)"
   ]
  },
  {
   "cell_type": "markdown",
   "metadata": {},
   "source": [
    "#### **self**\n",
    " - 파이썬의 method는 항상 첫번째 인자로 self를 전달\n",
    " - self는 현재 해당 메쏘드가 호출되는 객체 자신을 가리킴\n",
    " - C++/C#, Java의 this에 해당\n",
    " - 역시, 이름이 self일 필요는 없으나, 위치는 항상 맨 처음의 parameter이며 관례적으로 self로 사용"
   ]
  },
  {
   "cell_type": "code",
   "execution_count": null,
   "metadata": {},
   "outputs": [],
   "source": []
  },
  {
   "cell_type": "markdown",
   "metadata": {},
   "source": [
    "#### **method type**\n",
    " - instance method - 객체로 호출\n",
    "   - 메쏘드는 객체 레벨로 호출 되기 때문에, 해당 메쏘드를 호출한 객체에만 영향을 미침\n",
    " - class method    - class로 호출\n",
    "       - 클래스 메쏘드의 경우, 클래스 레벨로 호출되기 때문에, 클래스 멤버 변수만 변경 가능\n"
   ]
  },
  {
   "cell_type": "code",
   "execution_count": 57,
   "metadata": {},
   "outputs": [
    {
     "data": {
      "text/plain": [
       "4"
      ]
     },
     "execution_count": 57,
     "metadata": {},
     "output_type": "execute_result"
    }
   ],
   "source": [
    "# class mathd, slef 없음, 객체생성안하고 바로씀\n",
    "class Math:\n",
    "    @staticmethod\n",
    "    def add(a,b):\n",
    "        return a+b\n",
    "     @staticmethod\n",
    "    def multiply(a,b):\n",
    "        return a*b\n",
    "Math.add(1,3)    \n",
    "\n",
    "        "
   ]
  },
  {
   "cell_type": "markdown",
   "metadata": {},
   "source": [
    "#### **special method**\n",
    " - __로 시작 __로 끝나는 특수 함수\n",
    " - 해당 메쏘드들을 구현하면, 커스텀 객체에 여러가지 파이썬 내장 함수나 연산자를 적용 가능\n",
    " - 오버라이딩 가능한 함수 목록은 아래 링크에서 참조 \n",
    "   - https://docs.python.org/3/reference/datamodel.html"
   ]
  },
  {
   "cell_type": "code",
   "execution_count": null,
   "metadata": {},
   "outputs": [],
   "source": []
  },
  {
   "cell_type": "markdown",
   "metadata": {},
   "source": [
    "#### 연습문제)\n",
    " - 복소수 클래스를 정의 해봅시다.\n",
    " - 덧셈, 뺄셈, 곱셈 연산자 지원\n",
    " - 길이 (복소수의 크기) 지원 \n",
    " - 복소수 출력 '1 + 4j'와 같이 표현\n",
    " - 비교 연산 ==, != 지원\n",
    " - >=, <= , <, > 연산 지원\n",
    " - 절대값 지원\n"
   ]
  },
  {
   "cell_type": "code",
   "execution_count": null,
   "metadata": {},
   "outputs": [],
   "source": []
  }
 ],
 "metadata": {
  "kernelspec": {
   "display_name": "Python 3",
   "language": "python",
   "name": "python3"
  },
  "language_info": {
   "codemirror_mode": {
    "name": "ipython",
    "version": 3
   },
   "file_extension": ".py",
   "mimetype": "text/x-python",
   "name": "python",
   "nbconvert_exporter": "python",
   "pygments_lexer": "ipython3",
   "version": "3.7.3"
  }
 },
 "nbformat": 4,
 "nbformat_minor": 1
}
